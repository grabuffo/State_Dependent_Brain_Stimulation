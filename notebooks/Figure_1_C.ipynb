{
 "cells": [
  {
   "cell_type": "code",
   "execution_count": 18,
   "id": "a160e267-878c-4b42-8baf-0cc7b52a6074",
   "metadata": {},
   "outputs": [
    {
     "name": "stdout",
     "output_type": "stream",
     "text": [
      "Populating the interactive namespace from numpy and matplotlib\n"
     ]
    }
   ],
   "source": [
    "%pylab nbagg\n",
    "%matplotlib inline\n",
    "\n",
    "import numpy as np\n",
    "import matplotlib.pyplot as plt \n",
    "import matplotlib.colors as mcolors\n",
    "from scipy import stats\n",
    "from scipy.stats import rankdata\n",
    "import pickle\n",
    "import mne\n",
    "import os\n",
    "current_path = os.getcwd()"
   ]
  },
  {
   "cell_type": "code",
   "execution_count": 20,
   "id": "6823141e-9200-4d4b-9004-ea33dd52a2e8",
   "metadata": {},
   "outputs": [],
   "source": [
    "red_color = plt.cm.Reds(0.6)"
   ]
  },
  {
   "cell_type": "code",
   "execution_count": 21,
   "id": "5e4990ea-ae65-4967-bacf-f734c900fbfa",
   "metadata": {},
   "outputs": [],
   "source": [
    "import pickle\n",
    "\n",
    "file_path = '../data/SEEG/sub1/sub-01_run-01_Radius-100_metrics.pkl'\n",
    "\n",
    "# Open the file in 'rb' mode (read binary)\n",
    "with open(file_path, 'rb') as file:\n",
    "    data_1 = pickle.load(file)"
   ]
  },
  {
   "cell_type": "code",
   "execution_count": 22,
   "id": "3a13d94e-44de-4985-b17f-9a15328aa0c3",
   "metadata": {},
   "outputs": [],
   "source": [
    "Entrainment_post=list(data_1['metrics_post']['phase_coherence_matrix_mean_mat'].values())"
   ]
  },
  {
   "cell_type": "code",
   "execution_count": 23,
   "id": "fa56340a-bc8c-4b4d-8cdd-48920576ea64",
   "metadata": {},
   "outputs": [],
   "source": [
    "Entrainment_pre=list(data_1['metrics_pre']['phase_coherence_matrix_mean_mat'].values())"
   ]
  },
  {
   "cell_type": "code",
   "execution_count": 24,
   "id": "372682d0-35e4-41a0-9dfe-6b15d255928e",
   "metadata": {},
   "outputs": [
    {
     "data": {
      "text/plain": [
       "SpearmanrResult(correlation=0.602251407129456, pvalue=3.930544007049036e-05)"
      ]
     },
     "execution_count": 24,
     "metadata": {},
     "output_type": "execute_result"
    }
   ],
   "source": [
    "stats.spearmanr(Entrainment_pre, Entrainment_post)"
   ]
  },
  {
   "cell_type": "code",
   "execution_count": 25,
   "id": "1245bfc2-ad68-43e1-845d-660851540834",
   "metadata": {},
   "outputs": [
    {
     "name": "stderr",
     "output_type": "stream",
     "text": [
      "*c* argument looks like a single numeric RGB or RGBA sequence, which should be avoided as value-mapping will have precedence in case its length matches with *x* & *y*.  Please use the *color* keyword-argument or provide a 2-D array with a single row if you intend to specify the same RGB or RGBA value for all points.\n"
     ]
    },
    {
     "data": {
      "image/png": "[encoded data removed]",
      "text/plain": [
       "<Figure size 252x216 with 1 Axes>"
      ]
     },
     "metadata": {
      "needs_background": "light"
     },
     "output_type": "display_data"
    }
   ],
   "source": [
    "import numpy as np\n",
    "import matplotlib.pyplot as plt\n",
    "from scipy import stats\n",
    "\n",
    "# Convert to numpy arrays\n",
    "x = np.asarray(Entrainment_pre, dtype=float)\n",
    "y = np.asarray(Entrainment_post, dtype=float)\n",
    "\n",
    "# --- Stats: Spearman for correlation, OLS for line + CI ---\n",
    "rho, rho_p = stats.spearmanr(x, y)\n",
    "\n",
    "# Ordinary least squares line\n",
    "lr = stats.linregress(x, y)\n",
    "slope, intercept = lr.slope, lr.intercept\n",
    "\n",
    "# Residual std. error\n",
    "y_hat = intercept + slope * x\n",
    "resid = y - y_hat\n",
    "n = x.size\n",
    "df = n - 2\n",
    "s = np.sqrt(np.sum(resid**2) / df)\n",
    "\n",
    "# Grid for smooth line/band\n",
    "x_grid = np.linspace(x.min(), x.max(), 200)\n",
    "y_grid = intercept + slope * x_grid\n",
    "\n",
    "# 95% CI for the mean regression line\n",
    "x_bar = x.mean()\n",
    "Sxx = np.sum((x - x_bar)**2)\n",
    "tcrit = stats.t.ppf(0.975, df)\n",
    "se_mean = s * np.sqrt(1/n + (x_grid - x_bar)**2 / Sxx)\n",
    "ci_upper = y_grid + tcrit * se_mean\n",
    "ci_lower = y_grid - tcrit * se_mean\n",
    "\n",
    "# --- Plot (same style as yours) ---\n",
    "plt.rcParams[\"axes.spines.right\"] = False\n",
    "plt.rcParams[\"axes.spines.top\"] = False\n",
    "\n",
    "plt.figure(figsize=(3.5, 3))\n",
    "plt.title('NRC', fontsize=14)\n",
    "\n",
    "# Confidence band\n",
    "plt.fill_between(x_grid, ci_lower, ci_upper, alpha=0.2, color=\"gray\", linewidth=0)\n",
    "\n",
    "# Scatter\n",
    "plt.scatter(\n",
    "    x, y,\n",
    "    label=rf'$\\rho_s$={rho:.2f}, p={rho_p:.5f}',\n",
    "    alpha=0.8,\n",
    "    c=red_color\n",
    ")\n",
    "\n",
    "# Regression line\n",
    "plt.plot(x_grid, y_grid, color=\"black\", linewidth=1, zorder=3)\n",
    "\n",
    "plt.legend(fontsize=12, facecolor='none', loc='upper left')\n",
    "# plt.ylim(1.2, 2.)  # left commented, like your code\n",
    "\n",
    "plt.xlabel('Entrainment ($t<0$)', fontsize=12)\n",
    "plt.ylabel('Entrainment ($t>0$)', fontsize=12)\n",
    "\n",
    "plt.tight_layout()\n",
    "\n",
    "#plt.savefig(path_fig_out + 'EEG_Entrainment_scatter.png', dpi=300, transparent=True)\n",
    "plt.show()\n"
   ]
  },
  {
   "cell_type": "code",
   "execution_count": null,
   "id": "3ebae9f2-6e9d-41bb-a66a-c40ca4740260",
   "metadata": {},
   "outputs": [],
   "source": []
  },
  {
   "cell_type": "markdown",
   "id": "bc1df0d2-dad9-4037-b430-2d4cb896f466",
   "metadata": {},
   "source": [
    "# Surrogates"
   ]
  },
  {
   "cell_type": "code",
   "execution_count": 27,
   "id": "65cd301a-483a-41e1-95db-95aca4541830",
   "metadata": {},
   "outputs": [],
   "source": [
    "import pickle\n",
    "\n",
    "file_path_s = '../data/SEEG/sub1/sub-01_run-01_Radius-100_metrics_surrogate.pkl' #sub-03_run-08_100_metrics.pkl'#\n",
    "\n",
    "# Open the file in 'rb' mode (read binary)\n",
    "with open(file_path_s, 'rb') as file:\n",
    "    data_1_s = pickle.load(file)"
   ]
  },
  {
   "cell_type": "code",
   "execution_count": 28,
   "id": "f872b059-b555-48ee-8ad6-8360f8a23b2b",
   "metadata": {},
   "outputs": [
    {
     "data": {
      "text/plain": [
       "dict_keys([0, 1, 2, 3, 4, 5, 6, 7, 8, 9, 10, 11, 12, 13, 14, 15, 16, 17, 18, 19, 20, 21, 22, 23, 24, 25, 26, 27, 28, 29, 30, 31, 32, 33, 34, 35, 36, 37, 38, 39, 40, 41, 42, 43, 44, 45, 46, 47, 48, 49, 50, 51, 52, 53, 54, 55, 56, 57, 58, 59, 60, 61, 62, 63, 64, 65, 66, 67, 68, 69, 70, 71, 72, 73, 74, 75, 76, 77, 78, 79, 80, 81, 82, 83, 84, 85, 86, 87, 88, 89, 90, 91, 92, 93, 94, 95, 96, 97, 98, 99])"
      ]
     },
     "execution_count": 28,
     "metadata": {},
     "output_type": "execute_result"
    }
   ],
   "source": [
    "data_1_s['metrics_pre_surr'].keys()"
   ]
  },
  {
   "cell_type": "code",
   "execution_count": 29,
   "id": "157377ef-b7a7-4567-9698-0b583df347d2",
   "metadata": {},
   "outputs": [],
   "source": [
    "observed_corr=stats.spearmanr(Entrainment_pre, Entrainment_post)[0]\n",
    "null_corrs=np.zeros(100)\n",
    "for i in range(100):\n",
    "    A=list(data_1_s['metrics_pre_surr'][i]['phase_coherence_matrix_mean_mat'].values())\n",
    "    B=list(data_1_s['metrics_post_surr'][i]['phase_coherence_matrix_mean_mat'].values())\n",
    "    null_corrs[i]=stats.spearmanr(A,B)[0]"
   ]
  },
  {
   "cell_type": "code",
   "execution_count": 30,
   "id": "09308222-b2a9-42ef-9938-fccf08777809",
   "metadata": {},
   "outputs": [
    {
     "data": {
      "image/png": "[encoded data removed]",
      "text/plain": [
       "<Figure size 144x216 with 1 Axes>"
      ]
     },
     "metadata": {
      "needs_background": "light"
     },
     "output_type": "display_data"
    }
   ],
   "source": [
    "fig, ax = plt.subplots(figsize=(2, 3))\n",
    "ax.hist(null_corrs, bins=20, orientation='horizontal', color='gray', edgecolor='black')\n",
    "\n",
    "# Add vertical line for observed correlation\n",
    "ax.axhline(observed_corr, color=red_color, alpha=0.9, linewidth=2)\n",
    "\n",
    "# Label axes\n",
    "ax.set_xlabel(\"Count\", fontsize=12)\n",
    "ax.set_ylabel(r\"$\\rho_s$\", fontsize=12)\n",
    "ax.set_title(\"Null vs. Obs\", fontsize=14)\n",
    "\n",
    "plt.tight_layout()\n",
    "plt.show()"
   ]
  }
 ],
 "metadata": {
  "kernelspec": {
   "display_name": "p36workshop",
   "language": "python",
   "name": "p36workshop"
  },
  "language_info": {
   "codemirror_mode": {
    "name": "ipython",
    "version": 3
   },
   "file_extension": ".py",
   "mimetype": "text/x-python",
   "name": "python",
   "nbconvert_exporter": "python",
   "pygments_lexer": "ipython3",
   "version": "3.6.12"
  }
 },
 "nbformat": 4,
 "nbformat_minor": 5
}
